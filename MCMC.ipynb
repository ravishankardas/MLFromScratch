{
 "cells": [
  {
   "cell_type": "code",
   "execution_count": 3,
   "id": "2f7339c3",
   "metadata": {},
   "outputs": [],
   "source": [
    "#importing the libraries that will be used \n",
    "import pandas as pd\n",
    "import numpy as np\n",
    "import random\n",
    "import matplotlib.pyplot as plt"
   ]
  },
  {
   "cell_type": "code",
   "execution_count": 4,
   "id": "3089ac29",
   "metadata": {},
   "outputs": [],
   "source": [
    "np.random.seed(0)#this gets us the same set of random number after every call"
   ]
  },
  {
   "cell_type": "code",
   "execution_count": 5,
   "id": "9fc420bb",
   "metadata": {},
   "outputs": [],
   "source": [
    "#for finding the gaussian PMF\n",
    "def getDist(x,mu,sigma):\n",
    "    return np.exp((-(np.square(x-mu)))/(2*np.square(sigma)))/(np.sqrt(2*np.pi*np.square(sigma)))"
   ]
  },
  {
   "cell_type": "code",
   "execution_count": 6,
   "id": "8617cab0",
   "metadata": {},
   "outputs": [],
   "source": [
    "mu_d = 10\n",
    "sigma_d = 5\n",
    "data = np.random.normal(mu_d,sigma_d,50) #given data in the problem"
   ]
  },
  {
   "cell_type": "code",
   "execution_count": 7,
   "id": "48ee1a25",
   "metadata": {},
   "outputs": [],
   "source": [
    "mu_prior = 25\n",
    "sigma_prior = 5\n",
    "prior = np.random.normal(mu_prior,sigma_prior,50) #given prior"
   ]
  },
  {
   "cell_type": "markdown",
   "id": "2af16680",
   "metadata": {},
   "source": [
    "$\\textbf{Derivation of likelihood from the given data}$<br>Assuming the data is Independtly and identically distributted in normal distribution so the total likelihood will be give by the product of all likelihoods<br>\n",
    "\\begin{align*}\n",
    "Final &= \\prod_{i=1}^{n} \\frac{1}{\\sqrt{2 \\pi \\sigma^{2}}}e^{\\frac{-1}{2 \\sigma^{2}}{(y_i - \\mu)}^{2}} \\\\\n",
    "&= ({\\frac{1}{\\sqrt{2 \\pi \\sigma^{2}}}})^{n} e^{\\frac{-1}{2 \\sigma^{2}}{(\\sum_{i=1}^{n}(y_i - \\mu)}^{2}  }\\\\\n",
    "&= {\\frac{-1}{2 \\sigma^{2}}({\\sum_{i=1}^{n}(y_i^{2} + \\mu^{2} - 2 y_i \\mu)}}) \\text{ignoring the exponent e and the root term}\\\\\n",
    "&= \\frac{-1}{2 \\sigma^{2}}({\\sum_{i=1}^{n}y_i^{2} + n \\mu^{2} - 2\\mu n \\overline{y}}) \\\\\n",
    "&= \\frac{-n}{2 \\sigma^{2}}({\\mu^{2} - 2\\mu \\overline{y} +  \\frac{\\sum_{i=1}^{n}y_i^{2}}{n}})\\tag{1}\\\\\n",
    "\\end{align*}\n",
    " since the likelihood should be a normal likelihood so the form should be like this \n",
    " \\begin{align*}\n",
    " &= exp{\\frac{-1}{2 \\sigma_l^{2}} ({\\mu - \\mu_l}^{2})}\\\\\n",
    " \\end{align*} ignoring the constants and expanding the square we will get \n",
    " \\begin{align*}\n",
    " &=exp\\{\\frac{-1}{2\\sigma_l^{2}} (\\mu^{2}-2\\mu\\mu_l + \\mu_l^{2}) \\}\\tag{2}\n",
    " \\end{align*}\n",
    " \n",
    " after we compare the equations (1) and (2) we get \n",
    " \\begin{align*}\n",
    " \\mu_l &= \\overline{y} \\space \\text{and}\\space \\frac{-n}{2\\sigma^{2}} = \\frac{-1}{2\\sigma_l^{2}} \\space\\text{which is}\\space  \\sigma_l^{2} = \\frac{\\sigma_{data}^{2}}{n}\n",
    " \\end{align*}"
   ]
  },
  {
   "cell_type": "code",
   "execution_count": 8,
   "id": "08229859",
   "metadata": {},
   "outputs": [],
   "source": [
    "mu_like = 10\n",
    "sigma_like = sigma_d/np.sqrt(len(data))"
   ]
  },
  {
   "cell_type": "markdown",
   "id": "7ed824ee",
   "metadata": {},
   "source": [
    "$\\textbf{Posterior calculation}$<br>\n",
    "The product of two gaussian random  variables is not a gaussian random variable but the product of two gaussian distributions is proportional to a gaussian distribution. In our case we have both the prrior and the likelihood normal so our posterior will also be a normal.<br>\n",
    "Above we found out that the likelihood of n iid samples from normal distribution $N(\\mu,\\sigma)$ is distributed normally as $N(\\overline{y},\\frac{\\sigma}{\\sqrt{n}})$ where $\\overline{y}$ is the mean of the samples drawn. Lets consider the prior to be $N(m,s)$ where m is the mean and s is the standard deviation so prior * likelihood will be $N(\\mu_{pos},\\sigma_{pos})$ Now the PDF of normal distribution is given as $f(x) = \\frac{1}{\\sigma\\sqrt{2\\pi}} e^{\\frac{-({x-\\mu})^{2}   }{2\\sigma^{2}    }}\\tag{1}$<br>\n",
    "\\begin{align*}\n",
    "\\text{posterior} &\\propto \\text{prior} * \\text{likelihood}\\\\\n",
    "g(\\mu|y_1,y2,,,,y_n) &\\propto g(d) * f(y_1,y_2,,,,,|d)\\space\\text{d is the given data}\\\\\n",
    "&\\propto \\frac{1}{\\sigma_p \\sqrt{2\\pi}}exp({\\frac{-1}{2s^{2}}}(\\mu-m)^2)) * \\frac{1}{\\sigma_l \\sqrt{2\\pi}}exp({\\frac{-1}{2\\sigma_{l}^{2}}}(\\mu-\\overline{y})^2)\\\\\n",
    "\\\\\n",
    "&\\propto exp({\\frac{-1}{2s^{2}}}(\\mu-m)^2)) * exp({\\frac{-n}{2\\sigma_{l}^{2}}}(\\mu-\\overline{y})^2)\\space \\text{ignoring the constants}\\\\\n",
    "&\\propto exp(\\frac{1}{2s^{2}} (\\mu-m)^{2} - \\frac{n}{2\\sigma_l^{2}} (\\mu-\\overline{y})^{2})\\space\\text{using the property of exponents}\\\\\n",
    "&\\propto exp(\\frac{1}{2s^{2}} (\\mu^2+m^2-2\\mu m) - \\frac{n}{2\\sigma_l^{2}} (\\mu^2+(\\overline{y})^{2} - 2\\mu \\overline{y}))\\\\\n",
    "& \\propto exp(\\frac{-1}{2}[\\mu^2(\\frac{1}{s^2} + \\frac{n}{\\sigma_l^{2}}) -2\\mu (\\frac{m}{s^2} + \\frac{n \\overline{y}}{\\sigma_{l}^2}) + \\frac{m^2}{s^2} + \\frac{(\\overline{y})^2}{\\sigma_l^{2}}])\\tag{2}\\\\\n",
    "&= exp(\\frac{-1}{2\\sigma_{n}^{2}}[\\mu^2 + \\mu_n^{2}-2\\mu\\mu_n])\\space\\text{ignoring the constants and expanding the exponent from equation 1}\\\\\n",
    "\\frac{-1}{2\\sigma_{n}^{2}}* \\mu^{2} &= \\frac{\\mu^{2}}{2}(\\frac{1}{s^2} + \\frac{n}{\\sigma_l^{2}})\\\\\n",
    "\\frac{1}{\\sigma_n^{2}} &= (\\frac{1}{s^2} + \\frac{n}{\\sigma_l^{2}})\\space \\text{comparing the powers of $\\mu^2$}\\\\\n",
    "\\sigma_n^{2} &= \\frac{\\sigma_l^{2}s^{2}}{\\sigma_l^{2} + s^{2}n}\\tag{3}\\\\\n",
    "SD &= \\sqrt{\\frac{\\sigma_l^{2}s^{2}}{\\sigma_l^{2} + s^{2}n}}\\\\\n",
    "\\frac{-\\mu \\mu_n}{\\sigma_n^{2}}&= \\mu(\\frac{m}{s^2} + \\frac{n\\overline{y}}{\\sigma_l^{2}})\\space \\text{comparing the power of $\\mu$}\\\\\n",
    "\\frac{\\mu_n}{\\sigma_n^{2}} &= \\frac{m\\sigma_l^{2}+n\\overline{y}s^2}{\\sigma_l^2 s^2}\\\\\n",
    "\\mu_n &= \\sigma_n^{2} (\\frac{m\\sigma_l^{2}+n\\overline{y}s^2}{\\sigma_l^2 s^2})\\\\\n",
    "Mean&=\\frac{m\\sigma_l^{2}+n\\overline{y}s^2}{\\sigma_l^2 + ns^2}\n",
    "\\end{align*}\n"
   ]
  },
  {
   "cell_type": "code",
   "execution_count": 9,
   "id": "f7cb5a22",
   "metadata": {},
   "outputs": [],
   "source": [
    "denom = (np.square(sigma_d) + np.square(sigma_prior)*len(data))"
   ]
  },
  {
   "cell_type": "code",
   "execution_count": 10,
   "id": "cc80bf5f",
   "metadata": {},
   "outputs": [
    {
     "data": {
      "text/plain": [
       "0.7001400420140049"
      ]
     },
     "execution_count": 10,
     "metadata": {},
     "output_type": "execute_result"
    }
   ],
   "source": [
    "var_posterior = (np.square(sigma_d) * np.square(sigma_prior)) / denom\n",
    "sigma_posterior = np.sqrt(var_posterior)\n",
    "sigma_posterior"
   ]
  },
  {
   "cell_type": "code",
   "execution_count": 11,
   "id": "bbac6675",
   "metadata": {},
   "outputs": [
    {
     "data": {
      "text/plain": [
       "10.983133687809307"
      ]
     },
     "execution_count": 11,
     "metadata": {},
     "output_type": "execute_result"
    }
   ],
   "source": [
    "mu_posterior = (mu_prior * np.square(sigma_d) + np.sum(data)*np.square(sigma_prior))/denom\n",
    "mu_posterior"
   ]
  },
  {
   "cell_type": "code",
   "execution_count": 12,
   "id": "78ed045d",
   "metadata": {},
   "outputs": [
    {
     "data": {
      "image/png": "[encoded data removed]",
      "text/plain": [
       "<Figure size 432x288 with 1 Axes>"
      ]
     },
     "metadata": {
      "needs_background": "light"
     },
     "output_type": "display_data"
    }
   ],
   "source": [
    "#np.linspace(low,high,size) returns evenly spaced numbers over  specified interval.\n",
    "x_like = np.linspace(mu_like-5*sigma_like,mu_like+5*sigma_like,1000)\n",
    "\n",
    "plt.plot(x_like,getDist(x_like,mu_like,sigma_like),label='likelihood') #for every point we will get that point probability\n",
    "                                                                        #which will help us in plotting as a curve\n",
    "\n",
    "x_prior = np.linspace(mu_prior-5*sigma_prior,mu_prior+5*sigma_prior,1000)\n",
    "\n",
    "plt.plot(x_prior,getDist(x_prior,mu_prior,sigma_prior),label='prior')\n",
    "\n",
    "x_pos = np.linspace(mu_posterior-5*sigma_posterior,mu_posterior+5*sigma_posterior,1000)\n",
    "\n",
    "plt.plot(x_pos,getDist(x_pos,mu_posterior,sigma_posterior),label='posterior')\n",
    "\n",
    "plt.title('Likelihood, prior and posterior')\n",
    "\n",
    "plt.legend()\n",
    "plt.show()"
   ]
  },
  {
   "cell_type": "markdown",
   "id": "cce23fd4",
   "metadata": {},
   "source": [
    "2.b"
   ]
  },
  {
   "cell_type": "markdown",
   "id": "f8e08133",
   "metadata": {},
   "source": [
    "The Metropolis algorithm is used for MCMC sampling where we try to approximate the distribution of the model parameters after seeing the data, i.e. $P(\\theta|Y)$ following are the steps:\n",
    "1. At the start of the every iteration we sample a possible theta(say $\\theta_t^{*}$) from \"jump distribution\" which can be considered as Gaussian Distribution.\n",
    "2. We calculate the posterior value for $\\theta_t^{*}$ which is the product of prior and likelihood with that sampled theta $\\theta_t^{*}$ and another posterior using using the current $\\theta_{t-1}$ that we were working with before.\n",
    "3. We calcuate a ratio $\\frac{f(\\theta_t^{*})f_{Y|\\theta}(Y|\\theta_t^{*})}{f(\\theta_{t-1})f_{Y|\\theta}(Y|\\theta_{t-1})}$ where $f(\\theta_t^{*})$ is the prior with the sampled theta,$f_{Y|\\theta}(Y|\\theta_t^{*})$ is the likelihood with the sampled theta,$f(\\theta_{t-1})$ is the prior with the previous theta  and $f_{Y|\\theta}(Y|\\theta_{t-1})$ is the likelihood with the previous theta. The posterior is calculated as (prior * likelihood)/ marginal and when we divide two posterior the ,marginals gets cancelled that's why there weren't consdidered in the ratio.\n",
    "4. If the ratio$\\frac{f(\\theta_t^{*})f_{Y|\\theta}(Y|\\theta_t^{*})}{f(\\theta_{t-1})f_{Y|\\theta}(Y|\\theta_{t-1})}$ > 1 then we will accept the proposed theta and update our current theta because the posterior for proposed theta will be greater than the posterior of the parameter that we are working with, which will mean that the proposed theta is a better estimate for the data\n",
    "5. If r is less than 1 then we generate a random number between 0 and 1 and if r is greater than the generated number we accept the r and update the parameters\n",
    "\n",
    "After many iterations the updated theta will be an approximation of our posterior distribution on theta and the best thing about this technique is that the conjugacy between the likelihood and the prior is not required to calculate the bayesian posterior we only require the closed form solution of likelihood and the prior which is available in this case."
   ]
  },
  {
   "cell_type": "code",
   "execution_count": 13,
   "id": "99473672",
   "metadata": {},
   "outputs": [],
   "source": [
    "#function takes the parameters theta which consists of mean and standard deviation, which will define how we move from \n",
    "#current sigma to new sigma\n",
    "def proposal_theta(theta):\n",
    "    return [theta[0],np.random.normal(theta[1],5,(1,))[0]]"
   ]
  },
  {
   "cell_type": "code",
   "execution_count": 14,
   "id": "3440ad0c",
   "metadata": {},
   "outputs": [],
   "source": [
    "#this function takes the arguments and the data to return a normal likelihood\n",
    "def getLikelihood(theta,data):\n",
    "    temp = []\n",
    "    for i in data:\n",
    "        temp.append(getDist(i,theta[0],theta[1]))\n",
    "    return np.prod(temp)"
   ]
  },
  {
   "cell_type": "code",
   "execution_count": 15,
   "id": "4528d398",
   "metadata": {},
   "outputs": [],
   "source": [
    "#this function will return the probability of getting the proposed value\n",
    "def getPrior(theta):\n",
    "    x = theta[0]\n",
    "    return np.exp((-(np.square(x-mu_prior)))/(2*np.square(sigma_prior)))/(np.sqrt(2*np.pi*np.square(sigma_prior)))"
   ]
  },
  {
   "cell_type": "code",
   "execution_count": 16,
   "id": "6d1a2d8a",
   "metadata": {},
   "outputs": [],
   "source": [
    "#takes the initial parameters and returns the accepted parameters\n",
    "def metropolis_hastings(init_params,max_iter,data):\n",
    "    accepted = [] #  array to store the accepted parameters\n",
    "    for i in range(max_iter):\n",
    "       \n",
    "        \n",
    "        possible_theta = proposal_theta(init_params)#sample from the jump distribution\n",
    "#         print(possible_theta)\n",
    "        prior_for_possible_theta = getPrior(possible_theta)#prior for that sample\n",
    "        \n",
    "        likelihood_for_possible_theta = getLikelihood(possible_theta,data)#likelihood for that sample\n",
    "        \n",
    "        proposed_posterior = prior_for_possible_theta * likelihood_for_possible_theta#the posterior for that drawn sample\n",
    "        \n",
    "        prior_for_current_theta = getPrior(init_params)#prior for that the current theta\n",
    "        \n",
    "        likelihood_for_current_theta = getLikelihood(init_params,data)#likelihood for that the current theta\n",
    "        \n",
    "        current_posterior =  prior_for_current_theta * likelihood_for_current_theta #posterior for current theta\n",
    "        \n",
    "        r = proposed_posterior/current_posterior\n",
    "        if r > 1:\n",
    "            init_params = possible_theta #update old theta with proposed theta\n",
    "            \n",
    "            accepted.append(init_params)#accept if r > 1\n",
    "            \n",
    "        else:\n",
    "            a = np.random.uniform(0,1)\n",
    "            if r > a:\n",
    "                init_params = possible_theta\n",
    "                accepted.append(init_params)#accept if greater than random number a\n",
    "    return np.array(accepted,dtype=float)"
   ]
  },
  {
   "cell_type": "code",
   "execution_count": 17,
   "id": "db96dfb8",
   "metadata": {},
   "outputs": [],
   "source": [
    "accepted = metropolis_hastings([mu_posterior,5],20000,data)"
   ]
  },
  {
   "cell_type": "code",
   "execution_count": 18,
   "id": "d6029b8b",
   "metadata": {},
   "outputs": [],
   "source": [
    "#taking the last 80% values because the first 20% values are called burn in meaning the algorithm will take \n",
    "#atleast that much data after which the parameters start to change\n",
    "last=int(-0.80*accepted.shape[0])"
   ]
  },
  {
   "cell_type": "code",
   "execution_count": 19,
   "id": "821e2c9e",
   "metadata": {},
   "outputs": [],
   "source": [
    "estimated_mu = accepted[last:,0].mean()\n",
    "estimated_sigma = accepted[last:,1].mean()"
   ]
  },
  {
   "cell_type": "code",
   "execution_count": 20,
   "id": "94b70bc2",
   "metadata": {},
   "outputs": [],
   "source": [
    "if estimated_sigma < 0:\n",
    "    estimated_sigma = -estimated_sigma"
   ]
  },
  {
   "cell_type": "code",
   "execution_count": 21,
   "id": "627a0cf2",
   "metadata": {},
   "outputs": [],
   "source": [
    "estimated_posterior = np.random.normal(estimated_mu,estimated_sigma,100)\n",
    "analytic_posterior = np.random.normal(mu_posterior,sigma_posterior,100)"
   ]
  },
  {
   "cell_type": "code",
   "execution_count": 22,
   "id": "33305dc3",
   "metadata": {},
   "outputs": [
    {
     "data": {
      "text/plain": [
       "<matplotlib.legend.Legend at 0x23ff5f81cc0>"
      ]
     },
     "execution_count": 22,
     "metadata": {},
     "output_type": "execute_result"
    },
    {
     "data": {
      "image/png": "[encoded data removed]",
      "text/plain": [
       "<Figure size 360x360 with 1 Axes>"
      ]
     },
     "metadata": {
      "needs_background": "light"
     },
     "output_type": "display_data"
    }
   ],
   "source": [
    "fig = plt.figure(figsize=(5,5))\n",
    "plt.hist(estimated_posterior,bins=10 ,label=\"Estimated\")\n",
    "plt.hist(analytic_posterior,bins=10,color = 'orange',label='Analytical',alpha=0.5)\n",
    "plt.legend()"
   ]
  },
  {
   "cell_type": "markdown",
   "id": "06a06f22",
   "metadata": {},
   "source": [
    "2c<br>\n",
    "If your jumping distribution’s standard deviation is too large relative to the true distribution of the parameter, your simulated posterior will have lots of gaps because no proposals were generated in those locations.The strength of your prior belief affects the rate of convergence.For checking the convergence i have modified the above metropolis_hastings code so that it takes the proposal width now as a argumenet too"
   ]
  },
  {
   "cell_type": "code",
   "execution_count": 23,
   "id": "5b7943f9",
   "metadata": {},
   "outputs": [],
   "source": [
    "#same function as transition_model except now we can change the proposal width now\n",
    "def proposal_checker(theta,w):\n",
    "    return [theta[0],np.random.normal(theta[1],w,(1,))[0]]"
   ]
  },
  {
   "cell_type": "code",
   "execution_count": 24,
   "id": "aab83f3b",
   "metadata": {},
   "outputs": [],
   "source": [
    "def checker(init_params,max_iter,data,width):\n",
    "    accepted = [] #  array to store the accepted parameters\n",
    "    for i in range(max_iter):\n",
    "       \n",
    "        \n",
    "        possible_theta = proposal_checker(init_params,width)#sample from the jump distribution\n",
    "        prior_for_possible_theta = getPrior(possible_theta)#prior for that sample\n",
    "        \n",
    "        likelihood_for_possible_theta = getLikelihood(possible_theta,data)#likelihood for that sample\n",
    "        \n",
    "        proposed_posterior = prior_for_possible_theta * likelihood_for_possible_theta#the posterior for that drawn sample\n",
    "        \n",
    "        prior_for_current_theta = getPrior(init_params)#prior for that the current theta\n",
    "        \n",
    "        likelihood_for_current_theta = getLikelihood(init_params,data)#likelihood for that the current theta\n",
    "        \n",
    "        current_posterior =  prior_for_current_theta * likelihood_for_current_theta #posterior for current theta\n",
    "        \n",
    "        r = proposed_posterior/current_posterior\n",
    "        if r > 1:\n",
    "            init_params = possible_theta #update old theta with proposed theta\n",
    "            \n",
    "            accepted.append(init_params)#accept if r > 1\n",
    "            \n",
    "        else:\n",
    "            a = np.random.uniform(0,1)\n",
    "            if r > a:\n",
    "                init_params = possible_theta\n",
    "                accepted.append(init_params)#accept if greater than random number a\n",
    "#     return np.array(accepted,dtype=float)"
   ]
  },
  {
   "cell_type": "code",
   "execution_count": 25,
   "id": "c3f9cdb0",
   "metadata": {},
   "outputs": [],
   "source": [
    "#will be using time module to keep track of time\n",
    "import time\n",
    "n_iter = 200# number of iiterations the modified metropolis_hastigs will run"
   ]
  },
  {
   "cell_type": "code",
   "execution_count": 26,
   "id": "b87ab523",
   "metadata": {},
   "outputs": [],
   "source": [
    "#array of proposal_width\n",
    "width_arr = np.linspace(0,10,100)"
   ]
  },
  {
   "cell_type": "code",
   "execution_count": 27,
   "id": "78eccbcf",
   "metadata": {},
   "outputs": [],
   "source": [
    "#here we record the proposal width and the time required for the algorithm to run for that proposal width\n",
    "x = []\n",
    "y = []\n",
    "for i in width_arr:\n",
    "    x.append(i)\n",
    "    start = time.time()\n",
    "    checker([mu_posterior,5],n_iter,data,i)\n",
    "    end = time.time()\n",
    "    y.append(end - start)"
   ]
  },
  {
   "cell_type": "code",
   "execution_count": 28,
   "id": "ad17346d",
   "metadata": {},
   "outputs": [
    {
     "data": {
      "text/plain": [
       "Text(0.5, 1.0, 'Proposal width vs time')"
      ]
     },
     "execution_count": 28,
     "metadata": {},
     "output_type": "execute_result"
    },
    {
     "data": {
      "image/png": "[encoded data removed]",
      "text/plain": [
       "<Figure size 432x288 with 1 Axes>"
      ]
     },
     "metadata": {
      "needs_background": "light"
     },
     "output_type": "display_data"
    }
   ],
   "source": [
    "plt.plot(x,y)\n",
    "plt.xlabel('proposal_width')\n",
    "plt.ylabel('time')\n",
    "plt.title('Proposal width vs time')"
   ]
  },
  {
   "cell_type": "markdown",
   "id": "ec99153c",
   "metadata": {},
   "source": [
    "we can see that we are getting lesser time between 2.5 and 6"
   ]
  }
 ],
 "metadata": {
  "kernelspec": {
   "display_name": "Python 3.10.5 64-bit",
   "language": "python",
   "name": "python3"
  },
  "language_info": {
   "codemirror_mode": {
    "name": "ipython",
    "version": 3
   },
   "file_extension": ".py",
   "mimetype": "text/x-python",
   "name": "python",
   "nbconvert_exporter": "python",
   "pygments_lexer": "ipython3",
   "version": "3.10.5"
  },
  "vscode": {
   "interpreter": {
    "hash": "c7af7df4901773a0e355da496bf365ae011b1b331a57bbc9908dae1ee21823d7"
   }
  }
 },
 "nbformat": 4,
 "nbformat_minor": 5
}
