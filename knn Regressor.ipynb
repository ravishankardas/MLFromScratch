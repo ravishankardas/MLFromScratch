{
 "cells": [
  {
   "cell_type": "markdown",
   "id": "4e36fa5a",
   "metadata": {},
   "source": [
    "we have a car dataset , task is to train a knn regression model and predict the price of a future unknown data"
   ]
  },
  {
   "cell_type": "code",
   "execution_count": 1,
   "id": "eb80cefe",
   "metadata": {},
   "outputs": [],
   "source": [
    "import pandas as pd\n",
    "import numpy as np\n",
    "import matplotlib.pyplot as plt\n",
    "import math\n"
   ]
  },
  {
   "cell_type": "code",
   "execution_count": 2,
   "id": "3bb8194b",
   "metadata": {},
   "outputs": [],
   "source": [
    "cols = ['symboling', 'normalized-losses', 'make', 'fuel-type', 'aspiration', 'num-of-doors', 'body-style', 'drive-wheels', 'engine-location', 'wheel-base', 'length', 'width', 'height', 'curb-weight', 'engine-type', 'num-of-cylinders', 'engine-size', 'fuel-system', 'bore', 'stroke', 'compression-ratio', 'horsepower', 'peak-rpm', 'city-mpg', 'highway-mpg', 'price']\n",
    "cars = pd.read_csv('imports-85.data.txt', names=cols)"
   ]
  },
  {
   "cell_type": "code",
   "execution_count": 3,
   "id": "b1290100",
   "metadata": {},
   "outputs": [],
   "source": [
    "num_features = ['normalized-losses', 'wheel-base', 'length', 'width','height', 'curb-weight', 'bore', 'stroke', 'compression-ratio', \n",
    "                'horsepower', 'peak-rpm', 'city-mpg', 'highway-mpg', 'price']\n",
    "\n",
    "numeric_cars = cars[num_features].copy()"
   ]
  },
  {
   "cell_type": "markdown",
   "id": "bd4af270",
   "metadata": {},
   "source": [
    "replacing the \"?\" values by NaN"
   ]
  },
  {
   "cell_type": "code",
   "execution_count": 4,
   "id": "e207ec18",
   "metadata": {},
   "outputs": [],
   "source": [
    "numeric_cars.replace('?', np.nan, inplace=True)"
   ]
  },
  {
   "cell_type": "code",
   "execution_count": 5,
   "id": "062c6c55",
   "metadata": {},
   "outputs": [],
   "source": [
    "to_numeric_cols = ['normalized-losses', 'bore', 'stroke', 'horsepower', 'peak-rpm', 'price']\n",
    "numeric_cars[to_numeric_cols] = numeric_cars[to_numeric_cols].astype(float)"
   ]
  },
  {
   "cell_type": "markdown",
   "id": "55bd7f9a",
   "metadata": {},
   "source": [
    "replacing the Nan with the columns mean value"
   ]
  },
  {
   "cell_type": "code",
   "execution_count": 6,
   "id": "1c7dd60f",
   "metadata": {},
   "outputs": [],
   "source": [
    "numeric_cars.dropna(axis=0, thresh=2, inplace=True)\n",
    "numeric_cars = numeric_cars.fillna(numeric_cars.mean())"
   ]
  },
  {
   "cell_type": "markdown",
   "id": "b3e1b82d",
   "metadata": {},
   "source": [
    "normalisation usiing min_max method"
   ]
  },
  {
   "cell_type": "code",
   "execution_count": 7,
   "id": "50c4d64a",
   "metadata": {
    "scrolled": false
   },
   "outputs": [],
   "source": [
    "normalized_cars = (numeric_cars - numeric_cars.min())/(numeric_cars.max() - numeric_cars.min())\n",
    "normalized_cars['price'] = numeric_cars['price']"
   ]
  },
  {
   "cell_type": "code",
   "execution_count": 8,
   "id": "6b741e2e",
   "metadata": {},
   "outputs": [],
   "source": [
    "def euclidean(x,y):\n",
    "    return abs(x*x - y*y)\n",
    "def srt(x):\n",
    "    return x[0]"
   ]
  },
  {
   "cell_type": "markdown",
   "id": "de2a5b6d",
   "metadata": {},
   "source": [
    "we are dividing the data into train and test by  70:30 split"
   ]
  },
  {
   "cell_type": "code",
   "execution_count": 11,
   "id": "1e6e7cd8",
   "metadata": {},
   "outputs": [],
   "source": [
    "train_size = int(0.7*len(normalized_cars))\n",
    "train_set = normalized_cars.iloc[0:train_size]\n",
    "test_set = normalized_cars.iloc[train_size:]"
   ]
  },
  {
   "cell_type": "markdown",
   "id": "7349cc48",
   "metadata": {},
   "source": [
    "knn regressor function returns the mean of k nearest neighbors for k = 10 rmse is lowest and it increases with k"
   ]
  },
  {
   "cell_type": "code",
   "execution_count": 12,
   "id": "5c880bda",
   "metadata": {
    "scrolled": true
   },
   "outputs": [
    {
     "data": {
      "image/png": "[encoded data removed]",
      "text/plain": [
       "<Figure size 432x288 with 1 Axes>"
      ]
     },
     "metadata": {
      "needs_background": "light"
     },
     "output_type": "display_data"
    }
   ],
   "source": [
    "def knnregressor(arr,k):\n",
    "    final_arr=[]\n",
    "    for i in test_set.index:\n",
    "        distance=0\n",
    "        for j in range(len(arr)-1):\n",
    "            distance+=euclidean(arr[j],test_set.loc[i][j])\n",
    "        distance=math.sqrt(distance)\n",
    "        temp=[distance,test_set.loc[i][\"price\"]]\n",
    "        final_arr.append(temp)\n",
    "    final_arr.sort(key=srt)\n",
    "    sum=0\n",
    "    for i in range(k+1):\n",
    "        sum+=final_arr[i][1]\n",
    "    return sum/k\n",
    "ans = []\n",
    "for k in range(10,30):\n",
    "        rmse=0\n",
    "        cnt=0\n",
    "        temp=[]\n",
    "        for i in train_set.index:\n",
    "            x=knnregressor(train_set.loc[i],k)\n",
    "            y=train_set.loc[i][\"price\"]\n",
    "            rmse+=euclidean(x,y)\n",
    "            cnt+=1\n",
    "        rmse=math.sqrt(rmse)\n",
    "        rmse/=cnt\n",
    "        ans.append([rmse,k])\n",
    "\n",
    "        \n",
    "        \n",
    "k_values = []\n",
    "rmse_values = []\n",
    "for i in range(len(ans)):\n",
    "    rmse_values.append(ans[i][0])\n",
    "    k_values.append(ans[i][1])\n",
    "\n",
    "\n",
    "\n",
    "plt.plot(k_values, rmse_values)\n",
    "plt.xlabel('K')\n",
    "plt.ylabel('RMSE')\n",
    "plt.title('K vs RMSE') \n",
    "plt.show()\n"
   ]
  },
  {
   "cell_type": "markdown",
   "id": "114b820a",
   "metadata": {},
   "source": [
    "in cross validation we are using crossvalid and test temp(which are sampled from the train_set) to find the optimal k"
   ]
  },
  {
   "cell_type": "code",
   "execution_count": 13,
   "id": "404a932b",
   "metadata": {},
   "outputs": [],
   "source": [
    "#cross validation\n",
    "def knnregressornew(arr,k,train_new):\n",
    "    distance=0;\n",
    "    fin_arr=[]\n",
    "    for i in train_new.index:\n",
    "        for j in (range(len(arr)-1)):\n",
    "            distance+=euclidean(arr[j],train_new.loc[i][j])\n",
    "        temp=[distance,train_new.loc[i][\"price\"]]\n",
    "        fin_arr.append(temp)\n",
    "    fin_arr.sort(key=srt)\n",
    "    sum=0\n",
    "    for i in range(1,k+1):\n",
    "        sum=sum+fin_arr[i][1]\n",
    "    return sum/k\n",
    "\n"
   ]
  },
  {
   "cell_type": "markdown",
   "id": "43d7c6bb",
   "metadata": {},
   "source": [
    "dividing into random two groups"
   ]
  },
  {
   "cell_type": "code",
   "execution_count": 14,
   "id": "5a8efaf8",
   "metadata": {},
   "outputs": [],
   "source": [
    "ans_arr=[]\n",
    "for j in [5,10,15,20]:\n",
    "        crossvalid=train_set.sample(n=j)\n",
    "        test_temp=train_set.sample(n=20)\n",
    "        rms=0\n",
    "        temp=[]\n",
    "        for k in range(1,10):\n",
    "            for i in crossvalid.index:\n",
    "                x=knnregressornew(crossvalid.loc[i],k,test_temp)\n",
    "                y=crossvalid.loc[i][\"price\"]\n",
    "                rms+=euclidean(x,y)\n",
    "            rms/=j\n",
    "            rms=math.sqrt(rms)\n",
    "#             print(k,rms,j)\n",
    "            temp.append([k,rms,j])\n",
    "            ans_arr.append(temp)\n",
    "            temp=[]\n",
    "            "
   ]
  },
  {
   "cell_type": "markdown",
   "id": "b7edcde7",
   "metadata": {},
   "source": [
    "here we have the mean of rmse scores related to k_values.for k<6 we have mean rmse score lowest "
   ]
  },
  {
   "cell_type": "code",
   "execution_count": 15,
   "id": "b5c66051",
   "metadata": {
    "scrolled": true
   },
   "outputs": [
    {
     "data": {
      "image/png": "[encoded data removed]",
      "text/plain": [
       "<Figure size 432x288 with 1 Axes>"
      ]
     },
     "metadata": {
      "needs_background": "light"
     },
     "output_type": "display_data"
    }
   ],
   "source": [
    "the_k_values = [5,10,15,20]\n",
    "k_scores = []\n",
    "for k in the_k_values:\n",
    "    sum=0\n",
    "    cnt=0\n",
    "    for i in range(len(ans_arr)-1):\n",
    "        if(ans_arr[i][0][2]==k):\n",
    "            sum+=ans_arr[i][0][1]\n",
    "            cnt+=1\n",
    "    sum/=cnt\n",
    "    #print(sum)\n",
    "    k_scores.append(sum)\n",
    "plt.plot(the_k_values, k_scores)\n",
    "plt.xlabel('k-values')\n",
    "plt.ylabel('k-scores')\n",
    "plt.title('k-values vs k-scores') \n",
    "plt.show()"
   ]
  },
  {
   "cell_type": "code",
   "execution_count": null,
   "id": "4a58b28b",
   "metadata": {},
   "outputs": [],
   "source": []
  }
 ],
 "metadata": {
  "kernelspec": {
   "display_name": "Python 3.10.5 64-bit",
   "language": "python",
   "name": "python3"
  },
  "language_info": {
   "codemirror_mode": {
    "name": "ipython",
    "version": 3
   },
   "file_extension": ".py",
   "mimetype": "text/x-python",
   "name": "python",
   "nbconvert_exporter": "python",
   "pygments_lexer": "ipython3",
   "version": "3.10.5"
  },
  "vscode": {
   "interpreter": {
    "hash": "c7af7df4901773a0e355da496bf365ae011b1b331a57bbc9908dae1ee21823d7"
   }
  }
 },
 "nbformat": 4,
 "nbformat_minor": 5
}
