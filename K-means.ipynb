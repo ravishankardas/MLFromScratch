{
 "cells": [
  {
   "cell_type": "markdown",
   "metadata": {},
   "source": [
    "### Q1. Kernel k-means\n",
    "\n",
    "Let's try and end our course on a happy note. The smiley dataset you see below is made up of many clusters of points. "
   ]
  },
  {
   "cell_type": "code",
   "execution_count": 1,
   "metadata": {},
   "outputs": [],
   "source": [
    "import numpy as np\n",
    "import numpy.linalg as lin\n",
    "import numpy.random as rnd\n",
    "from matplotlib import pyplot as plt\n",
    "import numpy.linalg as lin\n",
    "import random\n",
    "import math\n",
    "import warnings\n",
    "warnings.filterwarnings(\"ignore\")\n",
    "\n",
    "\n",
    "def getFigure( sizex = 7, sizey = 7 ):\n",
    "    fig = plt.figure( figsize = (sizex, sizey) )\n",
    "    return fig\n",
    "\n",
    "def plot2D( X, fig, color = 'r', marker = '+', size = 100, empty = False ):\n",
    "    plt.figure( fig.number )\n",
    "    if empty:\n",
    "        plt.scatter( X[:,0], X[:,1], s = size, facecolors = 'none', edgecolors = color, marker = marker  )\n",
    "    else:\n",
    "        plt.scatter( X[:,0], X[:,1], s = size, c = color, marker = marker )\n",
    "\n",
    "\n",
    "def genCrescentData( d, n, mu, r, flipped = False ):\n",
    "    X = np.vstack( (np.cos( np.linspace( 0, np.pi, n ) ), np.sin( np.linspace( 0, np.pi, n ) ) ) ).T\n",
    "    if flipped:\n",
    "        X[:,1] = -np.abs( X[:,1] )\n",
    "    else:\n",
    "        X[:,1] = np.abs( X[:,1] )\n",
    "    X = (X * r) + mu\n",
    "    return X\n",
    "\n",
    "def genSphericalData( d, n, mu, r ):\n",
    "    X = rnd.normal( 0, 1, (n, d) )\n",
    "    norms = lin.norm( X, axis = 1 )\n",
    "    X = X / norms[:, np.newaxis]\n",
    "    X = (X * r) + mu\n",
    "    return X"
   ]
  },
  {
   "cell_type": "code",
   "execution_count": 2,
   "metadata": {},
   "outputs": [],
   "source": [
    "d = 2\n",
    "n = 200\n",
    "\n",
    "mu1 = np.array( [0,0] )\n",
    "mu2 = np.array( [0,1] )\n",
    "mu3 = np.array( [0,0] )\n",
    "mu4 = np.array( [-3,5] )\n",
    "mu5 = np.array( [3,5] )\n",
    "\n",
    "tmp1 = genCrescentData( d, n, mu1, 1 )\n",
    "tmp2 = genCrescentData( d, n, mu2, 5, flipped = True )\n",
    "tmp3 = genSphericalData( d, n, mu3, 10 )\n",
    "tmp4 = genSphericalData( d, n, mu4, 1 )\n",
    "tmp5 = genSphericalData( d, n, mu5, 1 )\n",
    "X = np.vstack( (tmp1, tmp2, tmp3, tmp4, tmp5) )"
   ]
  },
  {
   "cell_type": "code",
   "execution_count": 3,
   "metadata": {},
   "outputs": [
    {
     "data": {
      "image/png": "[encoded data removed]",
      "text/plain": [
       "<Figure size 360x360 with 1 Axes>"
      ]
     },
     "metadata": {
      "needs_background": "light"
     },
     "output_type": "display_data"
    }
   ],
   "source": [
    "fig = getFigure( 5, 5 )\n",
    "plot2D( X, fig, size = 50, color = 'b', marker = 'o' )"
   ]
  },
  {
   "cell_type": "code",
   "execution_count": 4,
   "metadata": {},
   "outputs": [],
   "source": [
    "np.random.seed(0)"
   ]
  },
  {
   "cell_type": "markdown",
   "metadata": {},
   "source": [
    "1.a) Can you implement the k-means algorithm to cluster this dataset? Visualize your output."
   ]
  },
  {
   "cell_type": "code",
   "execution_count": 5,
   "metadata": {},
   "outputs": [],
   "source": [
    "#this function is used to initilise the clusters randomly , it takes two arguments namely the data X and number of cluster k\n",
    "# and return the k cluster means\n",
    "def initilize_cluster_center(X,K):\n",
    "    n_samples = X.shape[0]     # number of rows\n",
    "    n_features = X.shape[1]    # here centroids will be a k by n_features matrix of all zeros which is used to get the centroids\n",
    "    centroids = np.zeros((K, n_features))     # temporary numpy array to store the centers\n",
    "    \n",
    "    for i in range(K):\n",
    "        index = np.random.choice(n_samples)   # randomly select an index from 0 to n_samples\n",
    "        random_centroid = X[index]            # here we are picking that random point from thet dataset X and puting in the \n",
    "                                              # above initilised centroids\n",
    "        centroids[i] = random_centroid \n",
    "\n",
    "    return centroids"
   ]
  },
  {
   "cell_type": "code",
   "execution_count": 6,
   "metadata": {},
   "outputs": [],
   "source": [
    "#this function takes three arguments data as X,centers as centroid and number of clusters as k\n",
    "#computes which points are closer to which cluster means and return k clusters\n",
    "def create_clusters(X,centroids,K):\n",
    "        clusters = []\n",
    "        for i in range(K): # this will be a list lf empty list with size as number of clusters\n",
    "            clusters.append([])\n",
    "        '''\n",
    "        In the loop below we will find euclidean distance between the current point and all the already chosen cluster\n",
    "        centres then we will find the minimum distance for any cluster and put the current point to that cluster\n",
    "        '''\n",
    "        for i, j in enumerate(X):\n",
    "            sub = j-centroids\n",
    "            sum_val = np.sum(sub**2, axis=1)\n",
    "            euclidean_distance = np.sqrt(sum_val)\n",
    "            closest_centroid_index = np.argmin(euclidean_distance)\n",
    "            clusters[closest_centroid_index].append(i)\n",
    "\n",
    "        return clusters"
   ]
  },
  {
   "cell_type": "code",
   "execution_count": 7,
   "metadata": {},
   "outputs": [],
   "source": [
    "#this function takes three arguments namely the created clusters as clusters , data as X and number of clusters as K\n",
    "#in this function we update the center of each cluster by taking the means of all points within the cluster and update\n",
    "\n",
    "def calculate_centroids(clusters,X,K):\n",
    "    n_features = X.shape[1]                     #number of columns\n",
    "    centroids = np.zeros((K, n_features))       #here centroids will be a k by n_features matrix of all zeros\n",
    "    \n",
    "    for i, j in enumerate(clusters):            # enumerate gives the index i and the values j in every iteration\n",
    "        new_centroids = np.mean(X[j], axis=0)   # here we will find the mean to update the cluser centers\n",
    "        centroids[i] = new_centroids\n",
    "    \n",
    "\n",
    "    return centroids"
   ]
  },
  {
   "cell_type": "code",
   "execution_count": 8,
   "metadata": {},
   "outputs": [],
   "source": [
    "#this function takes the final created clusters as clusters and the original data as X , takes the indices in cluster \n",
    "#and assigns the indexes so that points belong to same clusters have same id so that they can be colored accordingly \n",
    "\n",
    "def assign_cluster_id(clusters,X):\n",
    "        n_samples = X.shape[0]            #number of rows\n",
    "        y_pred = np.zeros(n_samples)      # temp numpy array to store number of zeros as number of rows \n",
    "        \n",
    "        for i, j in enumerate(clusters):  #here enumerate will give indices i and values at j \n",
    "            for k in j:\n",
    "                y_pred[k] = i             # here we are assigning index i to all the points within clusters\n",
    "\n",
    "        return y_pred"
   ]
  },
  {
   "cell_type": "code",
   "execution_count": 9,
   "metadata": {},
   "outputs": [],
   "source": [
    "#this function will plot the clustering output\n",
    "\n",
    "def plot_fig(X,y,title):\n",
    "        plt.title(title)\n",
    "        plt.scatter(X[:, 0], X[:, 1], c=y, s=40, cmap=plt.cm.Spectral)\n",
    "        plt.show()"
   ]
  },
  {
   "cell_type": "code",
   "execution_count": 10,
   "metadata": {},
   "outputs": [],
   "source": [
    "#this function takes four arguments namely data as X, number of iteration as max_iter, number of clusters as K and tolerance as tol\n",
    "#plots the clustering output\n",
    "\n",
    "def Kmeans(X,max_iter,k,tol,title):\n",
    "    \n",
    "    #here we are initilizing k cluster means randomly \n",
    "    initial_centroids = initilize_cluster_center(X,k)\n",
    "    \n",
    "    for q in range(max_iter):\n",
    "        \n",
    "        # create clusters\n",
    "        clusters = create_clusters(X, initial_centroids,k)\n",
    "        \n",
    "        \n",
    "        # tore the current centroids for further computation\n",
    "        previous_centroids = initial_centroids\n",
    "        \n",
    "        # here we will recompute the means to update the cluster centers        \n",
    "        curr_centroids = calculate_centroids(clusters, X,k)\n",
    "        \n",
    "        \n",
    "        # this is for checking convergence, here we are checking if the change between previous and current centroids is less \n",
    "        # than the pre defined tolerance\n",
    "        \n",
    "        \n",
    "        check=[]# this is a boolean array to keep track of the convergence condition being met or not, first it is false\n",
    "        for p in range(len(curr_centroids)):\n",
    "            check.append(False)\n",
    "        \n",
    "        # here we check if the updates has stopped or not\n",
    "        index = 0\n",
    "        for i in range(len(curr_centroids)):\n",
    "            first_cond = abs((previous_centroids[i][index] - curr_centroids[i][index]))<=tol\n",
    "            second_cond = abs((previous_centroids[i][index+1] - curr_centroids[i][index+1]))<=tol\n",
    "            \n",
    "            # if the above two conditions are true we will update our boolean array to true\n",
    "            if(first_cond and second_cond):\n",
    "                check[i]=True\n",
    "                          \n",
    "        # if all the enteries of bool array check is true meaning the the algorithm has converged and we break out of the loop\n",
    "        if all(check):\n",
    "            print('converged at iteration number: ',q)\n",
    "            break\n",
    "        initial_centroids=curr_centroids\n",
    "        \n",
    "    y_pred = assign_cluster_id(clusters, X)\n",
    "    plot_fig(X, y_pred,title)\n"
   ]
  },
  {
   "cell_type": "code",
   "execution_count": 11,
   "metadata": {},
   "outputs": [
    {
     "name": "stdout",
     "output_type": "stream",
     "text": [
      "converged at iteration number:  19\n"
     ]
    },
    {
     "data": {
      "image/png": "[encoded data removed]",
      "text/plain": [
       "<Figure size 432x288 with 1 Axes>"
      ]
     },
     "metadata": {
      "needs_background": "light"
     },
     "output_type": "display_data"
    }
   ],
   "source": [
    "k = 5\n",
    "tol=0.001\n",
    "max_iter = 100\n",
    "title = 'K-means'\n",
    "Kmeans(X,max_iter,k,tol,title)"
   ]
  },
  {
   "cell_type": "markdown",
   "metadata": {},
   "source": [
    "1.b) Implement k-means++ to initialize cluster centers usefully."
   ]
  },
  {
   "cell_type": "code",
   "execution_count": 12,
   "metadata": {},
   "outputs": [],
   "source": [
    "# this function will return the pairwise distance between A and B\n",
    "\n",
    "def pairWiseDistance(A,B):\n",
    "    fin = []\n",
    "    index = 0\n",
    "    for i in A:\n",
    "        arr = []\n",
    "        for j in B:\n",
    "            val = (i-j)\n",
    "            arr.append(np.square(val[index]) + np.square(val[index+1]))\n",
    "        fin.append(arr)\n",
    "    new_fin = np.array(fin)\n",
    "    return new_fin"
   ]
  },
  {
   "cell_type": "code",
   "execution_count": 13,
   "metadata": {},
   "outputs": [],
   "source": [
    "# this function is same as the initlization method for kMeans except here we are initilising the cluster centers meaningfully\n",
    "\n",
    "def initilize_clusters(X,k):\n",
    "    centroids = np.zeros((k, X.shape[1])) #here centroids will be a k by n_features matrix of all zeros \n",
    "    n_samples = X.shape[0]  \n",
    "    \n",
    "    random_index = random.randint(0, n_samples-1) # first center is chosen randomly\n",
    "    centroids[0,:] = X[random_index,:]\n",
    "    \n",
    "    # we choose the next (k-1) centroid's to be one which is likely to be far away from all currently chosen centroids\n",
    "    for j in range(1,k):\n",
    "        pair_wise_distances = pairWiseDistance(X,centroids[0:j,:])\n",
    "        min_distances = np.min(pair_wise_distances,axis = 1)    \n",
    "        \n",
    "        probability = min_distances/np.sum(min_distances)            # here we are calculating probability with which points will \n",
    "                                                                     # be selected later        \n",
    "        for i in range(len(probability)):\n",
    "            if probability[i] < 0:\n",
    "                probability[i] = 0\n",
    "                \n",
    "                \n",
    "        index_list = np.arange(n_samples)        \n",
    "        index = np.random.choice(index_list,p = probability)         # here p = probability means the probabilities associated \n",
    "                                                                     # with each entry in index_list\n",
    "        centroids[j,:] = X[index,:]\n",
    "        \n",
    "    return centroids      "
   ]
  },
  {
   "cell_type": "code",
   "execution_count": 14,
   "metadata": {},
   "outputs": [],
   "source": [
    "#this function is similar to the above kmeans except the cluster centers initially are now initilised meaningfuly(not randomly)\n",
    "\n",
    "def Kmeansplusplus(X,max_iter,k,tol,title):\n",
    "    \n",
    "    #first we will initilize k cluster means, this initilisation is different than the above k means as it selects the centers meaningfully\n",
    "    initial_centroids = initilize_clusters(X,k)\n",
    "    for q in range(max_iter):\n",
    "        #create clusters\n",
    "        clusters = create_clusters(X, initial_centroids,k)\n",
    "\n",
    "        previous_centroids = initial_centroids\n",
    "        \n",
    "        #here we will recompute the means to update\n",
    "        curr_centroids = calculate_centroids(clusters, X,k)\n",
    "        \n",
    "        \n",
    "        #convergence checking\n",
    "        check=[]\n",
    "        index = 0\n",
    "        for p in range(len(curr_centroids)):\n",
    "            check.append(False)\n",
    "        \n",
    "        for i in range(len(curr_centroids)):\n",
    "            first_cond = abs((previous_centroids[i][index] - curr_centroids[i][index]))<=tol\n",
    "            second_cond = abs((previous_centroids[i][index+1] - curr_centroids[i][index+1]))<=tol\n",
    "            \n",
    "            if(first_cond and second_cond):\n",
    "                check[i]=True\n",
    "                          \n",
    "        \n",
    "        if all(check):\n",
    "            print('converged at iteration number: ',q)\n",
    "            break\n",
    "        initial_centroids=curr_centroids\n",
    "    \n",
    "    y_pred = assign_cluster_id(clusters, X)\n",
    "    plot_fig(X, y_pred,title)"
   ]
  },
  {
   "cell_type": "code",
   "execution_count": 15,
   "metadata": {},
   "outputs": [
    {
     "name": "stdout",
     "output_type": "stream",
     "text": [
      "converged at iteration number:  18\n"
     ]
    },
    {
     "data": {
      "image/png": "[encoded data removed]",
      "text/plain": [
       "<Figure size 432x288 with 1 Axes>"
      ]
     },
     "metadata": {
      "needs_background": "light"
     },
     "output_type": "display_data"
    }
   ],
   "source": [
    "k = 5\n",
    "title = 'K-means++'\n",
    "max_iter = 100\n",
    "tol=0.001\n",
    "Kmeansplusplus(X,max_iter,k,tol,title)"
   ]
  },
  {
   "cell_type": "markdown",
   "metadata": {},
   "source": [
    "1.c) What value of k gives you the best clustering? Are you happy with the quality of the clustering?"
   ]
  },
  {
   "cell_type": "code",
   "execution_count": 16,
   "metadata": {},
   "outputs": [],
   "source": [
    "#this function is used to find the optimal number of k(number of cluster)\n",
    "#here we are storing the clusters and their cluster centers which will be used later to calculate the within cluster squared error\n",
    "#everthing is same as the above described k means algorithm\n",
    "def evaluate_Kmeans(X,maxIter,k,tol=0.0001):\n",
    "    a = []\n",
    "    b = []\n",
    "    #first we will initilize k cluster means \n",
    "    initial_centroids = initilize_cluster_center(X,k)\n",
    "    for t in range(maxIter):   \n",
    "        #create clusters\n",
    "        clusters = create_clusters(X, initial_centroids,k)\n",
    "        a.clear()\n",
    "        a.append(clusters)\n",
    "    \n",
    "        \n",
    "        previous_centroids = initial_centroids\n",
    "        \n",
    "        #here we will recompute the means to update the cluster centers        \n",
    "        curr_centroids = calculate_centroids(clusters, X,k)\n",
    "        b.clear()\n",
    "        b.append(curr_centroids)\n",
    "        \n",
    "        \n",
    "        check=[]\n",
    "        for p in range(len(curr_centroids)):\n",
    "            check.append(False)\n",
    "        index = 0\n",
    "        for i in range(len(curr_centroids)):\n",
    "            first_cond = abs((previous_centroids[i][index] - curr_centroids[i][index]))<=tol\n",
    "            second_cond = abs((previous_centroids[i][index+1] - curr_centroids[i][index+1]))<=tol\n",
    "            if(first_cond and second_cond):\n",
    "                check[i]=True\n",
    "                          \n",
    "        \n",
    "        if all(check):\n",
    "            break\n",
    "        initial_centroids=curr_centroids\n",
    "    \n",
    "        \n",
    "    return a,b"
   ]
  },
  {
   "cell_type": "code",
   "execution_count": 17,
   "metadata": {},
   "outputs": [],
   "source": [
    "#in this function we find the distance between the all the points and their cluster center and sum them for every k to get the \n",
    "#error which will be used to plot the error vs k plot to get the elbow point\n",
    "def wcss(X,maxIter,maxk):\n",
    "    fin_sum = []\n",
    "    index = 0\n",
    "    for s in range(2,maxk,1):\n",
    "        arr,brr = evaluate_Kmeans(X,10,s)\n",
    "        s_some = 0\n",
    "        for i in range(s):\n",
    "            for a,b in X[arr[index][i]]:\n",
    "                s_some+=((a-brr[index][i][index])**2 + (b-brr[index][i][index+1])**2)\n",
    "        fin_sum.append(s_some)\n",
    "    return fin_sum"
   ]
  },
  {
   "cell_type": "code",
   "execution_count": 18,
   "metadata": {},
   "outputs": [],
   "source": [
    "maxK = 12\n",
    "maxIter = 1000\n",
    "evaluate = wcss(X,maxIter,maxK)"
   ]
  },
  {
   "cell_type": "code",
   "execution_count": 19,
   "metadata": {},
   "outputs": [],
   "source": [
    "x_axis = []\n",
    "for i in range(2,maxK,1):\n",
    "    x_axis.append(i)"
   ]
  },
  {
   "cell_type": "code",
   "execution_count": 20,
   "metadata": {},
   "outputs": [
    {
     "name": "stdout",
     "output_type": "stream",
     "text": [
      "i ran it many time and saw that the wcss curve is steeper after k=5 so we can have optimal number of k as 5 and i think the clustering can be improved\n"
     ]
    },
    {
     "data": {
      "image/png": "[encoded data removed]",
      "text/plain": [
       "<Figure size 432x288 with 1 Axes>"
      ]
     },
     "metadata": {
      "needs_background": "light"
     },
     "output_type": "display_data"
    }
   ],
   "source": [
    "print('i ran it many time and saw that the wcss curve is steeper after k=5 so we can have optimal number of k as 5 and i think the clustering can be improved')\n",
    "plt.plot(x_axis,evaluate)\n",
    "plt.xlabel('K')\n",
    "plt.ylabel('WCSS')\n",
    "plt.title('Elbow curve')\n",
    "plt.show()"
   ]
  },
  {
   "cell_type": "markdown",
   "metadata": {},
   "source": [
    "1.d) I'm going to say that we want to be able to do better than this. So I want you to kernelize your k-means algorithm with a Gaussian kernel. Visualize the clustering output of your kernel k-means algorithm"
   ]
  },
  {
   "cell_type": "code",
   "execution_count": 21,
   "metadata": {},
   "outputs": [],
   "source": [
    "'''\n",
    "this is the kernel k-means function where everything is same as above kmeans except that now we will be using the feature transformed data \n",
    "hen use that to find the indices of clusters and plot on the oridinal data provided\n",
    "this function takes six arguments namely X as the tranformed input  max_iter as the maximum number of iteraions, k as the number \n",
    "of clusters,plot_X is the original untransformed data, title as the title of the plot and tol as tolerance to check for convergence\n",
    "'''\n",
    "\n",
    "def kernelKmeans(X,max_iter,k,plot_X,title,tol):\n",
    "    \n",
    "    #first we will initilize k cluster means \n",
    "    initial_centroids = initilize_cluster_center(X,k)\n",
    "    clusters = []\n",
    "    for q in range(max_iter):\n",
    "        clusters = create_clusters(X, initial_centroids,k)\n",
    "        previous_centroids = initial_centroids\n",
    "        \n",
    "        #here we will recompute the means to update the cluster centers        \n",
    "        curr_centroids = calculate_centroids(clusters, X,k)\n",
    "        \n",
    "        #here we are checking for convergence as when the maximum element of the difference between previous and current cetroids\n",
    "        # is less than tol meaning every other element will be less than tolerance which means little change in between iterations\n",
    "        check = abs(previous_centroids-curr_centroids)\n",
    "        if np.max(check) <= tol:\n",
    "            print('converged at iteration number: ',q)\n",
    "            break\n",
    "        \n",
    "        initial_centroids=curr_centroids\n",
    "        \n",
    "    #here we will take the the indices from the clusters of transformed X but plot with the original data X    \n",
    "    y_pred = assign_cluster_id(clusters, X)\n",
    "    plot_fig(plot_X, y_pred,title)"
   ]
  },
  {
   "cell_type": "markdown",
   "metadata": {},
   "source": [
    "Below function is the gaussian kernel(RBF) and is given as<br>\n",
    "$k(a,b) = exp(\\frac{-||a-b||^2}{2\\sigma^{2}})$ where a and b are the points and $\\sigma$ is the variance"
   ]
  },
  {
   "cell_type": "code",
   "execution_count": 22,
   "metadata": {},
   "outputs": [],
   "source": [
    "#returns the kernel euclidean distance between a and b\n",
    "def getRbfKernel(a,b,var=3):\n",
    "    diff = a-b\n",
    "    index = 0\n",
    "    val = (diff[index]**2 + diff[index+1]**2)/(2*var**2)\n",
    "    result = np.exp(-val)\n",
    "    return result"
   ]
  },
  {
   "cell_type": "code",
   "execution_count": 23,
   "metadata": {},
   "outputs": [],
   "source": [
    "new_X = [] # this is the kernel matrix"
   ]
  },
  {
   "cell_type": "code",
   "execution_count": 24,
   "metadata": {},
   "outputs": [],
   "source": [
    "#here we are creating the kernel matrix by mapping the original data X to higher dimension using rbf kernel\n",
    "#size of the kernel matrix here will be 1000 X 1000 so what happens is that this transformation makes the data linealry separable\n",
    "#after which we apply k means on that transformed data to get good clustering\n",
    "\n",
    "for i in range(len(X)):\n",
    "    temp = []\n",
    "    for j in range(len(X)):\n",
    "        temp.append(getRbfKernel(X[i],X[j]))\n",
    "    new_X.append(temp)  "
   ]
  },
  {
   "cell_type": "code",
   "execution_count": 25,
   "metadata": {},
   "outputs": [],
   "source": [
    "new_X = np.array(new_X)"
   ]
  },
  {
   "cell_type": "code",
   "execution_count": 26,
   "metadata": {},
   "outputs": [
    {
     "name": "stdout",
     "output_type": "stream",
     "text": [
      "converged at iteration number:  6\n"
     ]
    },
    {
     "data": {
      "image/png": "[encoded data removed]",
      "text/plain": [
       "<Figure size 432x288 with 1 Axes>"
      ]
     },
     "metadata": {
      "needs_background": "light"
     },
     "output_type": "display_data"
    },
    {
     "name": "stdout",
     "output_type": "stream",
     "text": [
      "better clustering than kmeans and kmeans++\n"
     ]
    }
   ],
   "source": [
    "n_iter = 100\n",
    "K=5\n",
    "title = 'Kernel k-means'\n",
    "tol=0.001\n",
    "kernelKmeans(new_X,n_iter,k,X,title,tol)\n",
    "print('better clustering than kmeans and kmeans++')"
   ]
  }
 ],
 "metadata": {
  "kernelspec": {
   "display_name": "Python 3 (ipykernel)",
   "language": "python",
   "name": "python3"
  },
  "language_info": {
   "codemirror_mode": {
    "name": "ipython",
    "version": 3
   },
   "file_extension": ".py",
   "mimetype": "text/x-python",
   "name": "python",
   "nbconvert_exporter": "python",
   "pygments_lexer": "ipython3",
   "version": "3.9.7"
  }
 },
 "nbformat": 4,
 "nbformat_minor": 4
}
