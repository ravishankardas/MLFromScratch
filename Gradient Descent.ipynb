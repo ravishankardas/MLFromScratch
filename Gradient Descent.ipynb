{
 "cells": [
  {
   "cell_type": "code",
   "execution_count": 1,
   "id": "da76fc01",
   "metadata": {},
   "outputs": [],
   "source": [
    "import numpy as np\n",
    "import random\n",
    "import matplotlib.pyplot as plt"
   ]
  },
  {
   "cell_type": "code",
   "execution_count": 2,
   "id": "ebc8c6b2",
   "metadata": {},
   "outputs": [],
   "source": [
    "# 1.a\n",
    "def gradient_descent(gradient,init_,learn_rate,n_iter=50,tol=1e-06):\n",
    "    x = init_\n",
    "    for init_ in range(n_iter):\n",
    "        delta = -learn_rate * gradient(x)\n",
    "        if np.all(np.abs(delta)<=tol):\n",
    "            break\n",
    "        x+=delta\n",
    "    return round(x*1000)/1000"
   ]
  },
  {
   "cell_type": "code",
   "execution_count": 3,
   "id": "1d0f4610",
   "metadata": {},
   "outputs": [
    {
     "data": {
      "text/plain": [
       "-1.5"
      ]
     },
     "execution_count": 3,
     "metadata": {},
     "output_type": "execute_result"
    }
   ],
   "source": [
    "gradient_descent(gradient=lambda v: 2* v + 3 , init_=4.0, learn_rate=0.2)"
   ]
  },
  {
   "cell_type": "code",
   "execution_count": 4,
   "id": "9a30cc49",
   "metadata": {},
   "outputs": [
    {
     "data": {
      "text/plain": [
       "-1.366"
      ]
     },
     "execution_count": 4,
     "metadata": {},
     "output_type": "execute_result"
    }
   ],
   "source": [
    "gradient_descent(gradient=lambda v: 2*v**3 - 3*v + 1 , init_=0.1, learn_rate=0.06)"
   ]
  },
  {
   "cell_type": "markdown",
   "id": "c622f56c",
   "metadata": {},
   "source": [
    "1.b<br>for linear regression we find the loss function using mean squared error(MSE)\n",
    "here x and y and input parameters and and we find the partial derivative with respect to slope(a) and bias(b) for y = ax+b to get the gradient, here $\\overline{y_i}$ is the predicted value and $y_i$ is the actual value\n",
    "\\begin{align*}\n",
    "\\textbf{E}&=\\frac{1}{n}\\sum\\limits_{i=1}^{n}(y_i-\\overline{y_i})^2\\\\\n",
    "\\textbf{E} &= \\frac{1}{n}\\sum\\limits_{i=1}^{n}(y_i-(ax_i + b))^2\\\\\n",
    "\\frac{\\partial E}{\\partial a}&=\\frac{-2}{N}\\sum\\limits_{i=1}^{N}x_i(y_i-(ax_i+b))\\\\\n",
    "\\frac{\\partial E}{\\partial b}&=\\frac{-2}{N}\\sum\\limits_{i=1}^{N}(y_i-(ax_i+b))\\\\\n",
    "\\end{align*}"
   ]
  },
  {
   "cell_type": "markdown",
   "id": "399e6458",
   "metadata": {},
   "source": [
    "below gradient function will take three parameters X,y and pred_y  where X is the  value with which we will calculate the predicted value of y which is $\\overline{y}$, and y is the actual value,pred_y is the predicted value of y which is $\\overline{y_i}=ax_i + b$"
   ]
  },
  {
   "cell_type": "code",
   "execution_count": 5,
   "id": "b4053045",
   "metadata": {},
   "outputs": [],
   "source": [
    "def gradient(X, y,pred_y):\n",
    "    #here X and y are the inputs and the pred_y is the predicted value for y\n",
    "    n=len(X) #total number of elements in X\n",
    "    grad_a = -(2/n) * sum(X * (y - pred_y)) #derivative of the loss function with respect to a\n",
    "                                            #  y-pred_y will be an array and then multiplied component wise with array X \n",
    "                                            #and then summed similarly below\n",
    "    grad_b = -(2/n) * sum(y - pred_y) #derivative of the loss function with respect to b\n",
    "    return grad_a, grad_b"
   ]
  },
  {
   "cell_type": "code",
   "execution_count": 6,
   "id": "88dad4d9",
   "metadata": {},
   "outputs": [],
   "source": [
    "np.random.seed(0)\n",
    "X=2.5*np.random.randn(10000)+1.5\n",
    "res=1.5*np.random.randn(10000)\n",
    "y=2+0.3*X+res"
   ]
  },
  {
   "cell_type": "code",
   "execution_count": 7,
   "id": "ccd18bdf",
   "metadata": {},
   "outputs": [],
   "source": [
    "#1.c\n",
    "def grad_desc(X,y):\n",
    "    n=float(len(X))\n",
    "    a=0 #initial value of parameter a in y=ax+b is kept zero\n",
    "    b=0 #initial value of parameter b in y=ax+b is kept zero\n",
    "    l=0.001 \n",
    "    count=10500\n",
    "    '''\n",
    "        for this learning rate l the number of iterations count is kept 21500, \n",
    "        after running it we will see that at minima, \n",
    "        the cost value will not reduce much,giving the expected values of parameters a and b\n",
    "    '''    \n",
    "    for i in range(count):\n",
    "        y_pred = a*X + b # this is the predicted value of y\n",
    "#         cost = (1/n) * sum([val**2 for val in (y-y_pred)])\n",
    "        '''\n",
    "        here cost is the mean square error,\n",
    "        which is just the sum of squares of the (y-y_pred) values\n",
    "        '''\n",
    "        grad_a,grad_b = gradient(X,y,y_pred) # here we will get the partial derivatives w.r.t to a and b which is the direction\n",
    "        a-=grad_a*l \n",
    "        b-=grad_b*l\n",
    "        '''\n",
    "        here we are updating the values a and b ,\n",
    "        this update changes the value of a and b on the curve with respect to the slope from the previous step,\n",
    "        and when the minima is attained they will reduce much and get stuck on a particular value\n",
    "        '''\n",
    "#         print('a {} , b {}, cost {}, iteration {}'.format(a,b,cost,i)) # this is to fine tune the parameters l and count\n",
    "    return a,b # this will return the a and b values which give the least error and fit the data well"
   ]
  },
  {
   "cell_type": "code",
   "execution_count": 8,
   "id": "25350fb4",
   "metadata": {},
   "outputs": [
    {
     "name": "stdout",
     "output_type": "stream",
     "text": [
      "Wall time: 15.9 s\n"
     ]
    },
    {
     "data": {
      "text/plain": [
       "(0.29531861789670527, 2.023287961712447)"
      ]
     },
     "execution_count": 8,
     "metadata": {},
     "output_type": "execute_result"
    }
   ],
   "source": [
    "%%time\n",
    "grad_desc(X,y)"
   ]
  },
  {
   "cell_type": "code",
   "execution_count": 9,
   "id": "3b46b107",
   "metadata": {},
   "outputs": [],
   "source": [
    "#1.d\n",
    "#this function takes 3 parameters inputs X and y and batch size\n",
    "def minibatchgradientdescent(X,y,batch):\n",
    "    a=0 #initial value of parameter a\n",
    "    b=0 #initial value of parameter b\n",
    "    l=0.001 # this is learning rate which controls how much the parameters a and b change\n",
    "    count=10500 # number of times our loop will run\n",
    "    for i in range(count):\n",
    "        idx=np.random.randint(0,len(X),batch) # here we are sampling a mini-batch of size batch\n",
    "        x_batch = X[idx] # idx is the random indexes of size batch with which we sample x_batch and y_batch\n",
    "        y_batch = y[idx] # x_batch and y_batch will be an array of random batch size\n",
    "        y_pred = a*x_batch + b # this is the predicted value of y using the y_batch\n",
    "        error = (1/batch) * sum([val**2 for val in (y_batch-y_pred)])\n",
    "        grad_a,grad_b= gradient(x_batch,y_batch,y_pred) # here we are calculating the gradients \n",
    "                                                        # with respect to the sampled x_batch and y_batch\n",
    "        a-=grad_a*l # here a and b gets updates according to the slope found from the previous step \n",
    "        b-=grad_b*l # when minima is attained they stop changing\n",
    "    return a,b,error # this returns the expected values of a and b which helps in fitting the data"
   ]
  },
  {
   "cell_type": "code",
   "execution_count": 10,
   "id": "c0a97cba",
   "metadata": {},
   "outputs": [
    {
     "name": "stdout",
     "output_type": "stream",
     "text": [
      "Wall time: 429 ms\n"
     ]
    },
    {
     "data": {
      "text/plain": [
       "(0.3052155335220458, 2.014733929387673, 2.2348251092648814)"
      ]
     },
     "execution_count": 10,
     "metadata": {},
     "output_type": "execute_result"
    }
   ],
   "source": [
    "%%time\n",
    "minibatchgradientdescent(X,y,32)"
   ]
  },
  {
   "cell_type": "code",
   "execution_count": 11,
   "id": "6e30bf84",
   "metadata": {},
   "outputs": [],
   "source": [
    "arr_size = len(X)"
   ]
  },
  {
   "cell_type": "code",
   "execution_count": 17,
   "id": "7cdd65ec",
   "metadata": {},
   "outputs": [],
   "source": [
    "#1 e part 1\n",
    "#sgd will take three parameters the input X and y with size(how many datapoints to choose)\n",
    "def SGD(X,y,size):\n",
    "    a=0\n",
    "    b=0\n",
    "    l=0.001\n",
    "    count=10500\n",
    "    for i in range(count):\n",
    "        idx = np.random.randint(arr_size)#idx will have only \n",
    "                                        # one index chosen randomly between \n",
    "                                        # 0 and len(X)-1 so x_sample and \n",
    "                                        # y_sample below would only have one data point\n",
    "        x_sample = X[idx] \n",
    "        y_sample = y[idx]\n",
    "        y_pred = a*x_sample + b # predicted value of y\n",
    "        grad_a = (-2/size) * (x_sample*(y_sample - y_pred))\n",
    "        grad_b = (-2/size) * (y_sample - y_pred)\n",
    "        a = a-grad_a*l #updation of model parameters according to the slope found in the above step\n",
    "        b = b-grad_b*l\n",
    "    return a,b # will return a,b which helps fit the data "
   ]
  },
  {
   "cell_type": "code",
   "execution_count": 18,
   "id": "58b90135",
   "metadata": {},
   "outputs": [
    {
     "name": "stdout",
     "output_type": "stream",
     "text": [
      "Wall time: 46 ms\n"
     ]
    },
    {
     "data": {
      "text/plain": [
       "(0.37082468353723386, 1.9934367480646797)"
      ]
     },
     "execution_count": 18,
     "metadata": {},
     "output_type": "execute_result"
    }
   ],
   "source": [
    "%%time\n",
    "SGD(X,y,1)"
   ]
  },
  {
   "cell_type": "markdown",
   "id": "2d6522ff",
   "metadata": {},
   "source": [
    "we can see that for the same initial values of parameter a,b,learning rate and iterations count stochastic Gradient descent performs better in terms of time than vanilla gradient descent because SGD picks up only one data point and finds the gradient with it taking lesser time than GD who takes every datapoint, the execution time of GD and SGD varies a lot,if we lower the iteration count time would be reduced but the model parameters a and b will be calulcated with less accuracy"
   ]
  },
  {
   "cell_type": "markdown",
   "id": "e90495f7",
   "metadata": {},
   "source": [
    "1e part2<br>\n",
    "the optimal minibatch size should be the size which gives us the  values which are close to the expected values of parameters a and b which (a,b) ~ (0.3,2) which we can find out by getting all the a , b values for all possible batch sizes and checking the batch size which gives the lowest error we will start from 2 and the maximum we can go till len(X) , excluding it because if we take the whole data set then it is no longer mini-batch gradient descent"
   ]
  },
  {
   "cell_type": "code",
   "execution_count": 19,
   "id": "14c4c69d",
   "metadata": {},
   "outputs": [],
   "source": [
    "plt.rcParams['figure.figsize'] = (5.0, 5.0)"
   ]
  },
  {
   "cell_type": "code",
   "execution_count": 21,
   "id": "0360c8e1",
   "metadata": {},
   "outputs": [
    {
     "name": "stdout",
     "output_type": "stream",
     "text": [
      "Wall time: 1min 22s\n"
     ]
    }
   ],
   "source": [
    "%%time\n",
    "error_values = []\n",
    "batch_values = []\n",
    "size = len(X)\n",
    "batch = 2\n",
    "while(batch <= size):\n",
    "    a,b,error = minibatchgradientdescent(X,y,batch)\n",
    "    error_values.append(error)\n",
    "    batch_values.append(batch)\n",
    "    batch*=2"
   ]
  },
  {
   "cell_type": "code",
   "execution_count": 22,
   "id": "10951315",
   "metadata": {},
   "outputs": [
    {
     "name": "stdout",
     "output_type": "stream",
     "text": [
      "optimal batch size is : 8 having error of : 1.3776542226120672\n"
     ]
    },
    {
     "data": {
      "text/plain": [
       "Text(0, 0.5, 'error')"
      ]
     },
     "execution_count": 22,
     "metadata": {},
     "output_type": "execute_result"
    },
    {
     "data": {
      "image/png": "[encoded data removed]",
      "text/plain": [
       "<Figure size 360x360 with 1 Axes>"
      ]
     },
     "metadata": {
      "needs_background": "light"
     },
     "output_type": "display_data"
    }
   ],
   "source": [
    "minpos = error_values.index(min(error_values))\n",
    "print('optimal batch size is : {} having error of : {}'.format(batch_values[minpos],error_values[minpos])) \n",
    "plt.plot(batch_values,error_values)\n",
    "plt.xlabel('batch size')\n",
    "plt.ylabel('error')"
   ]
  },
  {
   "cell_type": "code",
   "execution_count": null,
   "id": "68e222da",
   "metadata": {},
   "outputs": [],
   "source": []
  }
 ],
 "metadata": {
  "kernelspec": {
   "display_name": "Python 3 (ipykernel)",
   "language": "python",
   "name": "python3"
  },
  "language_info": {
   "codemirror_mode": {
    "name": "ipython",
    "version": 3
   },
   "file_extension": ".py",
   "mimetype": "text/x-python",
   "name": "python",
   "nbconvert_exporter": "python",
   "pygments_lexer": "ipython3",
   "version": "3.9.6"
  }
 },
 "nbformat": 4,
 "nbformat_minor": 5
}
